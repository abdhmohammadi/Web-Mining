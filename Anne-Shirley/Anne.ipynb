{
  "cells": [
    {
      "cell_type": "markdown",
      "metadata": {
        "colab_type": "text",
        "id": "view-in-github"
      },
      "source": [
        "<a href=\"https://colab.research.google.com/github/abdhmohammadi/DataScience/blob/main/Quotes_scrapping.ipynb\" target=\"_parent\"><img src=\"https://colab.research.google.com/assets/colab-badge.svg\" alt=\"Open In Colab\"/></a>"
      ]
    },
    {
      "cell_type": "markdown",
      "metadata": {
        "id": "csunXnMU6Nyk"
      },
      "source": [
        "<font color=\"GreenOrange\" size=40><b>Anne Of Green Gables Quotes</b></font><br/>\n",
        "<h1>38 of the best book quotes from Anne of Green Gables</h1>\n",
        "\n",
        "<h1>Content</h1>\n",
        "\n",
        "\n",
        "---\n",
        "\n",
        "\n",
        "> Import libraries\n",
        "\n",
        "> loading HTML data\n",
        "\n",
        "> Scraping the page\n",
        "\n",
        "> Print all results\n",
        "\n",
        "> Explanation of results\n",
        "\n",
        "> User interaction\n",
        "*   Test for 'Not found'\n",
        "*   Test for other results\n",
        "\n",
        "\n",
        "\n",
        "\n",
        "\n",
        "\n",
        "\n",
        "\n"
      ]
    },
    {
      "cell_type": "markdown",
      "metadata": {
        "id": "bJKA8AFCRw5e"
      },
      "source": [
        "<h1>Importing the necessary tools</h1>\n",
        "In this notebook, we used two libraries, <b>regular expression and BeautifulSoup</b>, to scrape the <a href=\"https://bookroo.com/quotes/anne-of-green-gables\">site</a>\n"
      ]
    },
    {
      "cell_type": "code",
      "execution_count": 2,
      "metadata": {
        "id": "VsJbaqp61xg-"
      },
      "outputs": [],
      "source": [
        "from bs4 import BeautifulSoup \n",
        "from urllib.request import urlopen\n",
        "import re\n",
        "import numpy as np"
      ]
    },
    {
      "cell_type": "markdown",
      "metadata": {
        "id": "NY7-BJ89TNYL"
      },
      "source": [
        "<h1>Opening the URL and load the html data</h1>\n",
        "We load the html data Using BeautifulSoup library."
      ]
    },
    {
      "cell_type": "code",
      "execution_count": 3,
      "metadata": {
        "id": "QuyYqs5DO0TS"
      },
      "outputs": [],
      "source": [
        "url= \"https://bookroo.com/quotes/anne-of-green-gables\"\n",
        "\n",
        "page = urlopen(url) # http.client.HTTPResponse object\n",
        "\n",
        "html_bytes = page.read()\n",
        "\n",
        "html = html_bytes.decode(\"utf-8\")\n",
        "\n",
        "soup = BeautifulSoup(html, \"html.parser\")"
      ]
    },
    {
      "cell_type": "markdown",
      "metadata": {
        "id": "oHo8vdBfOeWl"
      },
      "source": [
        "<h1>Scraping the https://bookroo.com/quotes/anne-of-green-gables </h1>\n",
        "By checking the source code of the quotations site, it was found that the quotations are located in the <b>div</b> tags with <b>class=\"css-eez2cp\"</b>, this point is used as the key to find the quotations.\n",
        "Next, to find the <b>characters</b>, we must check the <b>div</b> tags with <b>class=\"css-k07upt\"</b>. By searching these tags, you can find the names of <b>characters</b> that are not all speakers of quotes, for example, in some places, the author's name is inside such tags. Since we are looking for the <b>characters</b> speaking the quote, we need to apply another filter on these tags, this is <b>class='css-1s1o1fc'</b>, We will apply this filter on the class value of <b>'a'</b> tags that is children of the <b>div</b>. Some <b>character</b> tags may have more than one <b>character</b>, so we used <b>child nodes</b> in the <b>div</b> tag to get the <b>characters</b> accurately. You can see the results in the code."
      ]
    },
    {
      "cell_type": "code",
      "execution_count": null,
      "metadata": {
        "id": "0017m2RaRi4l"
      },
      "outputs": [],
      "source": [
        "idx = 0\n",
        "remove_html_tags_pattern = \"<.*?>\"\n",
        "\n",
        "# Each quote is inside a div tag\n",
        "divs = soup.find_all(\"div\")\n",
        "# we store to item for each item of quote_list,\n",
        "# each item is shape of [quote,speakers]\n",
        "quote_list =  []\n",
        "\n",
        "for div in divs:\n",
        "  cls = div.attrs.get('class')\n",
        "  find = False\n",
        "  if cls != None:\n",
        "    item=[\"\",\"\"]\n",
        "    # FIND A QOUTE  \n",
        "    if (cls ==['css-eez2cp']):\n",
        "          # Each quote is inside a div tag\n",
        "          # the string 'css-eez2cp' is class value of each tag of the quote \n",
        "          \n",
        "          # Adding a quote to quote list\n",
        "          quote_list.append([re.sub(remove_html_tags_pattern, \"\", str(div)),\"\"])\n",
        "          idx = idx + 1\n",
        "    \n",
        "    # FIND A CHARACTER BLOCK\n",
        "    if \"css-k07upt\" in cls: \n",
        "    # the string 'css-k07upt' is class value of each character div block\n",
        "    # Each quote has a div block for characters, \n",
        "    # some quotes may be attributed to more than one person,\n",
        "    # so we need to scan the children of these divs to find the speakers.\n",
        "            if div.children !=None:\n",
        "               quoters=\"\"\n",
        "               for child in div.children:\n",
        "                  if child.name == 'a':\n",
        "                     classes = child.attrs.get('class')\n",
        "                     # FIND A QUOTER\n",
        "                     if 'css-1s1o1fc' in classes:\n",
        "                     # the string 'css-1s1o1fc' is class value of each character 'a' tag\n",
        "                     # At this point we have found a quoter tag as 'a'\n",
        "                     # now must be remove all html tags chars to get the quoter name\n",
        "\n",
        "                        # Should we check if a quote has one speaker or more?\n",
        "                        # If a speaker has already been found for this quote, we add this speaker \n",
        "                        # with a ',' next to it, otherwise we will have only one speaker.\n",
        "                        \n",
        "                        if len((quote_list[idx-1])[1]) == 0: # One speaker\n",
        "                              (quote_list[idx-1])[1] = re.sub(remove_html_tags_pattern, \"\", str(child))\n",
        "                        else:  # more than one speaker\n",
        "                              (quote_list[idx-1])[1] = (quote_list[idx-1])[1] + \" , \" + re.sub(remove_html_tags_pattern, \"\", str(child))\n"
      ]
    },
    {
      "cell_type": "markdown",
      "metadata": {
        "id": "S4sQWd5xmG7p"
      },
      "source": [
        "<h1>Print all results</h1>\n",
        "Here we print the results in full, in the next section you can see their quotes by selecting the names of the characters"
      ]
    },
    {
      "cell_type": "code",
      "execution_count": 110,
      "metadata": {
        "colab": {
          "base_uri": "https://localhost:8080/"
        },
        "id": "lHF6Bhs1l3m-",
        "outputId": "03e0d9f9-08c8-431a-a281-022b8d5eb483"
      },
      "outputs": [
        {
          "name": "stdout",
          "output_type": "stream",
          "text": [
            "\u001b[1m1-\u001b[0m “I’m so glad I live in a world where there are Octobers.”\n",
            "\u001b[1mAnne Shirley\u001b[0m\n",
            "\u001b[1m2-\u001b[0m “But if you call me Anne, please call me Anne with an ‘e’.”\n",
            "\u001b[1mAnne Shirley\u001b[0m\n",
            "\u001b[1m3-\u001b[0m “I’m not a bit changed--not really. I’m only just pruned down and branched out. The real me--back here--is just the same.”\n",
            "\u001b[1mAnne Shirley\u001b[0m\n",
            "\u001b[1m4-\u001b[0m “When I left Queen’s my future seemed to stretch out before me like a straight road. I thought I could see along it for many a milestone. Now there is a bend in it. I don’t know what lies around the bend, but I’m going to believe that the best does. It has a fascination of its own, that bend, Marilla.”\n",
            "\u001b[1mAnne Shirley , Marilla Cuthbert\u001b[0m\n",
            "\u001b[1m5-\u001b[0m “It’s so easy to be wicked without knowing it, isn’t it?”\n",
            "\u001b[1mAnne Shirley\u001b[0m\n",
            "\u001b[1m6-\u001b[0m “It’s all very well to read about sorrows and imagine yourself living through them heroically, but it’s not so nice when you really come to have them, is it?”\n",
            "\u001b[1mAnne Shirley\u001b[0m\n",
            "\u001b[1m7-\u001b[0m “It is ever so much easier to be good if your clothes are fashionable.”\n",
            "\u001b[1mAnne Shirley\u001b[0m\n",
            "\u001b[1m8-\u001b[0m “Matthew, much to his own surprise, was enjoying himself. Like most quiet folks he liked talkative people when they were willing to do the talking themselves and did not expect him to keep up his end of it.”\n",
            "\u001b[1mMatthew Cuthbert\u001b[0m\n",
            "\u001b[1m9-\u001b[0m “Which would you rather be if you had the choice--divinely beautiful or dazzlingly clever or angelically good?”\n",
            "\u001b[1mAnne Shirley\u001b[0m\n",
            "\u001b[1m10-\u001b[0m “You’d find it easier to be bad than good if you had red hair... People who haven’t red hair don’t know what trouble is.”\n",
            "\u001b[1mAnne Shirley\u001b[0m\n",
            "\u001b[1m11-\u001b[0m “For we pay a price for everything we get or take in this world; and although ambitions are well worth having, they are not to be cheaply won, but exact their dues of work and self-denial, anxiety and discouragement.”\n",
            "\u001b[1mJane Andrews\u001b[0m\n",
            "\u001b[1m12-\u001b[0m “Isn’t it nice to think that tomorrow is a new day with no mistakes in it yet.”\n",
            "\u001b[1mAnne Shirley\u001b[0m\n",
            "\u001b[1m13-\u001b[0m “It’s delightful when your imaginations come true, isn’t it?”\n",
            "\u001b[1mAnne Shirley\u001b[0m\n",
            "\u001b[1m14-\u001b[0m “That’s the worst of growing up, and I’m beginning to realize it. The things you wanted so much when you were a child don’t seem half so wonderful to you when you get them.”\n",
            "\u001b[1mAnne Shirley\u001b[0m\n",
            "\u001b[1m15-\u001b[0m “It’s nicer to think dear, pretty thoughts and keep them in one’s heart, like treasures. I don’t like to have them laughed at or wondered over.”\n",
            "\u001b[1mAnne Shirley\u001b[0m\n",
            "\u001b[1m16-\u001b[0m “I’ve done my best, and I begin to understand what is meant by ‘the joy of strife’. Next to trying and winning, the best thing is trying and failing.”\n",
            "\u001b[1mAnne Shirley\u001b[0m\n",
            "\u001b[1m17-\u001b[0m “I know it is just plain red, and it breaks my heart. It will be my life long sorrow.”\n",
            "\u001b[1mAnne Shirley\u001b[0m\n",
            "\u001b[1m18-\u001b[0m “But really, Marilla, one can’t stay sad very long in such an interesting world, can one?”\n",
            "\u001b[1mAnne Shirley , Marilla Cuthbert\u001b[0m\n",
            "\u001b[1m19-\u001b[0m “All things great are wound up with all things little.”\n",
            "\u001b[1m\u001b[0m\n",
            "\u001b[1m20-\u001b[0m “I read in a book once that a rose by any other name would smell as sweet, but I’ve never been able to believe it. I don’t believe a rose WOULD be as nice if it was called a thistle or a skunk cabbage.”\n",
            "\u001b[1mAnne Shirley\u001b[0m\n",
            "\u001b[1m21-\u001b[0m “Don’t you just love poetry that gives you a crinkly feeling up and down your back?”\n",
            "\u001b[1mAnne Shirley\u001b[0m\n",
            "\u001b[1m22-\u001b[0m “It’s been my experience that you can nearly always enjoy things if you make up your mind firmly that you will.”\n",
            "\u001b[1mAnne Shirley\u001b[0m\n",
            "\u001b[1m23-\u001b[0m “Kindred spirits are not so scarce as I used to think. It’s splendid to find out there are so many of them in the world.”\n",
            "\u001b[1mAnne Shirley\u001b[0m\n",
            "\u001b[1m24-\u001b[0m “True friends are always together in spirit.”\n",
            "\u001b[1mAnne Shirley\u001b[0m\n",
            "\u001b[1m25-\u001b[0m “My life is a perfect graveyard of buried hopes.”\n",
            "\u001b[1mAnne Shirley\u001b[0m\n",
            "\u001b[1m26-\u001b[0m “Life is worth living as long as there’s a laugh in it.”\n",
            "\u001b[1mAnne Shirley\u001b[0m\n",
            "\u001b[1m27-\u001b[0m “‘Dear old world’, she murmured, ‘you are very lovely, and I am glad to be alive in you.‘”\n",
            "\u001b[1mAnne Shirley\u001b[0m\n",
            "\u001b[1m28-\u001b[0m “People laugh at me because I use big words. But if you have big ideas, you have to use big words to express them, haven’t you?”\n",
            "\u001b[1mAnne Shirley\u001b[0m\n",
            "\u001b[1m29-\u001b[0m “There’s such a lot of different Annes in me. I sometimes think that is why I’m such a troublesome person. If I was just the one Anne it would be ever so much more comfortable, but then it wouldn’t be half so interesting.”\n",
            "\u001b[1mAnne Shirley\u001b[0m\n",
            "\u001b[1m30-\u001b[0m “Oh, it’s delightful to have ambitions. I’m so glad I have such a lot. And there never seems to be any end to them-- that’s the best of it. Just as soon as you attain to one ambition you see another one glittering higher up still. It does make life so interesting.”\n",
            "\u001b[1mAnne Shirley\u001b[0m\n",
            "\u001b[1m31-\u001b[0m “...because when you are imagining, you might as well imagine something worth while.”\n",
            "\u001b[1mAnne Shirley\u001b[0m\n",
            "\u001b[1m32-\u001b[0m “Why must people kneel down to pray? If I really wanted to pray I’ll tell you what I’d do. I’d go out into a great big field all alone or in the deep, deep woods and I’d look up into the sky—up—up—up—into that lovely blue sky that looks as if there was no end to its blueness. And then I’d just feel a prayer.”\n",
            "\u001b[1mAnne Shirley\u001b[0m\n",
            "\u001b[1m33-\u001b[0m “It was November--the month of crimson sunsets, parting birds, deep, sad hymns of the sea, passionate wind-songs in the pines. Anne roamed through the pineland alleys in the park and, as she said, let that great sweeping wind blow the fogs out of her soul.”\n",
            "\u001b[1mAnne Shirley\u001b[0m\n",
            "\u001b[1m34-\u001b[0m “Look at that sea, girls--all silver and shadow and vision of things not seen. We couldn’t enjoy its loveliness any more if we had millions of dollars and ropes of diamonds.”\n",
            "\u001b[1mAnne Shirley\u001b[0m\n",
            "\u001b[1m35-\u001b[0m “But have you ever noticed one encouraging thing about me, Marilla? I never make the same mistake twice.” \n",
            "\n",
            "“I don’t know as that’s much benefit when you’re always making new ones.”\n",
            "\u001b[1mAnne Shirley , Marilla Cuthbert\u001b[0m\n",
            "\u001b[1m36-\u001b[0m “We ought always to try to influence other people for good.”\n",
            "\u001b[1mAnne Shirley , Mrs. Allen\u001b[0m\n",
            "\u001b[1m37-\u001b[0m “Do you think amethysts can be the souls of good violets?”\n",
            "\u001b[1mAnne Shirley\u001b[0m\n",
            "\u001b[1m38-\u001b[0m “Isn’t it splendid to think of all the things there are to find out about? It just makes me feel glad to be alive--it’s such an interesting world. It wouldn’t be half so interesting if we know all about everything, would it? There’d be no scope for imagination then, would there? But am I talking too much? People are always telling me I do. Would you rather I didn’t talk? If you say so I’ll stop. I can stop when I make up my mind to it, although it’s difficult.”\n",
            "\u001b[1mAnne Shirley\u001b[0m\n"
          ]
        }
      ],
      "source": [
        "for i in range(len(quote_list)):\n",
        "      # Print quote\n",
        "      print(\"\\033[1m\"+str(i+1)+\"-\\033[0m \"+quote_list[i][0])\n",
        "      # Print quoters\n",
        "      print(\"\\033[1m\"+quote_list[i][1]+\"\\033[0m\")\n"
      ]
    },
    {
      "cell_type": "markdown",
      "metadata": {
        "id": "o-lJfbmIUGvp"
      },
      "source": [
        "<h1>Explanation of results</h1>\n",
        "According to the results, we were able to extract the quotes correctly, when writing this code, there are two characters in quotes <b>4,18,35 and 36</b>, also the <b>19</b> do not has <b>any 'qouter'</b>, you can get the correctness of the results by referring to the <a href=\"https://bookroo.com/quotes/anne-of-green-gables\">Anne of Green Gables</a> page and comparing our results.\n",
        "\n",
        "abdhmohammadi@gmail.com"
      ]
    },
    {
      "cell_type": "markdown",
      "metadata": {
        "id": "SSr0x2k5nGxl"
      },
      "source": [
        "<h1>User interaction</h1>\n",
        "By entering a part of the character's name, you can see the quotes in which this character played a role, if you do not enter any value, by pressing the enter key, you will see the list of all the quotes as in the previous section."
      ]
    },
    {
      "cell_type": "code",
      "execution_count": 103,
      "metadata": {
        "id": "T1ppOzCQbhiu"
      },
      "outputs": [],
      "source": [
        "def print_user_selection(): \n",
        "      print(\"Select from the quoters\\n\\033[1mAnne Shirley, Marilla Cuthbert, Matthew Cuthbert, Jane Andrews, Mrs. Allen\\033[0m\\nor leave empty string to find the qoutes without any qouter.\\n \")\n",
        "\n",
        "      quoter_name = input(\"\")\n",
        "\n",
        "      print(\"Scanning the list for '\"+ quoter_name+\"' ...\")\n",
        "\n",
        "      lower_ = quoter_name.lower()\n",
        "      quoters =\"\"\n",
        "      result = []\n",
        "\n",
        "#Anne Shirley, Marilla Cuthbert, Matthew Cuthbert, Jane Andrews, Mrs. Allen\n",
        "      for i in range(len(quote_list)):\n",
        "          quoters_ = (quote_list[i][1])\n",
        "          idx = quoters_.lower().find(lower_)\n",
        "    \n",
        "          if idx>=0: \n",
        "              quoters = quoters_\n",
        "              result.append(quote_list[i])\n",
        "\n",
        "      if len(result) >0:\n",
        "          print(str(len(result)) +\" item(s) found.\\n\")\n",
        "          for i in range(len(result)):\n",
        "              print(\"\\033[1m\"+str(i+1)+\"-\\033[0m \"+result[i][0])\n",
        "              print(\"\\033[1m\"+result[i][1]+\"\\033[0m\")\n",
        "      else:\n",
        "          print(\"\\033[1mNot found\\033[0m\")\n"
      ]
    },
    {
      "cell_type": "markdown",
      "metadata": {
        "id": "wE49EMTLo1QF"
      },
      "source": [
        "<b>Test for 'Not found'</b>"
      ]
    },
    {
      "cell_type": "code",
      "execution_count": 107,
      "metadata": {
        "colab": {
          "base_uri": "https://localhost:8080/"
        },
        "id": "O62LrkNIpEnL",
        "outputId": "17e9cd72-079c-45cc-d188-2ec36e4505fb"
      },
      "outputs": [
        {
          "name": "stdout",
          "output_type": "stream",
          "text": [
            "Select from the quoters\n",
            "\u001b[1mAnne Shirley, Marilla Cuthbert, Matthew Cuthbert, Jane Andrews, Mrs. Allen\u001b[0m\n",
            "or leave empty string to find the qoutes without any qouter.\n",
            " \n",
            "fdfdff\n",
            "Scanning the list for 'fdfdff' ...\n",
            "\u001b[1mNot found\u001b[0m\n"
          ]
        }
      ],
      "source": [
        "\n",
        "print_user_selection()\n"
      ]
    },
    {
      "cell_type": "markdown",
      "metadata": {
        "id": "vfYC8SC3pPAx"
      },
      "source": [
        "<b>Other results</b>\n",
        "\n",
        "Here we tested by entering 'Matt' and next 'cut'\n",
        "\n",
        "You can test the code by running this section and entering another inputs."
      ]
    },
    {
      "cell_type": "code",
      "execution_count": 109,
      "metadata": {
        "colab": {
          "base_uri": "https://localhost:8080/"
        },
        "id": "WGpmgoT9pWkW",
        "outputId": "150060a2-d12a-45c4-c0c6-e1e935d6de65"
      },
      "outputs": [
        {
          "name": "stdout",
          "output_type": "stream",
          "text": [
            "Select from the quoters\n",
            "\u001b[1mAnne Shirley, Marilla Cuthbert, Matthew Cuthbert, Jane Andrews, Mrs. Allen\u001b[0m\n",
            "or leave empty string to find the qoutes without any qouter.\n",
            " \n",
            "Matt\n",
            "Scanning the list for 'Matt' ...\n",
            "1 item(s) found.\n",
            "\n",
            "\u001b[1m1-\u001b[0m “Matthew, much to his own surprise, was enjoying himself. Like most quiet folks he liked talkative people when they were willing to do the talking themselves and did not expect him to keep up his end of it.”\n",
            "\u001b[1mMatthew Cuthbert\u001b[0m\n",
            "Select from the quoters\n",
            "\u001b[1mAnne Shirley, Marilla Cuthbert, Matthew Cuthbert, Jane Andrews, Mrs. Allen\u001b[0m\n",
            "or leave empty string to find the qoutes without any qouter.\n",
            " \n",
            "cut\n",
            "Scanning the list for 'cut' ...\n",
            "4 item(s) found.\n",
            "\n",
            "\u001b[1m1-\u001b[0m “When I left Queen’s my future seemed to stretch out before me like a straight road. I thought I could see along it for many a milestone. Now there is a bend in it. I don’t know what lies around the bend, but I’m going to believe that the best does. It has a fascination of its own, that bend, Marilla.”\n",
            "\u001b[1mAnne Shirley , Marilla Cuthbert\u001b[0m\n",
            "\u001b[1m2-\u001b[0m “Matthew, much to his own surprise, was enjoying himself. Like most quiet folks he liked talkative people when they were willing to do the talking themselves and did not expect him to keep up his end of it.”\n",
            "\u001b[1mMatthew Cuthbert\u001b[0m\n",
            "\u001b[1m3-\u001b[0m “But really, Marilla, one can’t stay sad very long in such an interesting world, can one?”\n",
            "\u001b[1mAnne Shirley , Marilla Cuthbert\u001b[0m\n",
            "\u001b[1m4-\u001b[0m “But have you ever noticed one encouraging thing about me, Marilla? I never make the same mistake twice.” \n",
            "\n",
            "“I don’t know as that’s much benefit when you’re always making new ones.”\n",
            "\u001b[1mAnne Shirley , Marilla Cuthbert\u001b[0m\n"
          ]
        }
      ],
      "source": [
        "\n",
        "print_user_selection()\n"
      ]
    }
  ],
  "metadata": {
    "colab": {
      "authorship_tag": "ABX9TyNGJi/7zkTtFTt8aA6j+B35",
      "include_colab_link": true,
      "provenance": [],
      "toc_visible": true
    },
    "kernelspec": {
      "display_name": "Python 3",
      "name": "python3"
    },
    "language_info": {
      "name": "python"
    }
  },
  "nbformat": 4,
  "nbformat_minor": 0
}
